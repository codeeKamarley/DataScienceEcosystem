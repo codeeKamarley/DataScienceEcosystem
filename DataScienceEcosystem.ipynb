{
 "cells": [
  {
   "cell_type": "markdown",
   "id": "f1e2086e-ba21-401f-8f62-812b88f3fcc8",
   "metadata": {},
   "source": [
    "# Data Science Tools and Ecosystem"
   ]
  },
  {
   "cell_type": "markdown",
   "id": "9a9a541d-920d-4e61-8e54-c9b82262053d",
   "metadata": {},
   "source": [
    "In this notebook, Data Science Tools and Ecosystem are summarized."
   ]
  },
  {
   "cell_type": "markdown",
   "id": "f1a6c70a-1292-430e-9ae3-fe1b4392d53b",
   "metadata": {
    "tags": []
   },
   "source": [
    "Some of the popular languages that Data Scientists use are:\n",
    "<ol>\n",
    "<li>Python</li>\n",
    "<li>R</li>\n",
    "<li>SQL</li>\n",
    "</ol>"
   ]
  },
  {
   "cell_type": "markdown",
   "id": "c26bd505-20c5-493f-8c39-05475f016a04",
   "metadata": {},
   "source": [
    "Some of the commonly used libraries used by Data Scientists include:\n",
    "    <ol>\n",
    "    <li>NumPy</li>\n",
    "    <li>TensorFlow</li>\n",
    "    <li>Pandas</li>\n",
    "    </ol>"
   ]
  },
  {
   "cell_type": "markdown",
   "id": "13554c44-bd22-4cf7-b221-8d84b0c1cad7",
   "metadata": {
    "tags": []
   },
   "source": [
    "<table>\n",
    "    <th>Data Science Tools</th>\n",
    "    <tr>\n",
    "        <td>Python</td>\n",
    "    </tr>\n",
    "    <tr>\n",
    "        <td>Jupyter</td>\n",
    "    </tr>\n",
    "    <tr>\n",
    "        <td>R</td>\n",
    "    </tr>\n",
    "</table>"
   ]
  },
  {
   "cell_type": "markdown",
   "id": "6cad8685-70c5-44a7-a3a3-ab8f01abefab",
   "metadata": {},
   "source": [
    "<h3>Below are a few examples of evaluating arithmetic expressions in Python</h3>\n"
   ]
  },
  {
   "cell_type": "code",
   "execution_count": 7,
   "id": "b9a651c5-14da-4e7b-b527-9e33e22b9d21",
   "metadata": {
    "tags": []
   },
   "outputs": [
    {
     "data": {
      "text/plain": [
       "17"
      ]
     },
     "execution_count": 7,
     "metadata": {},
     "output_type": "execute_result"
    }
   ],
   "source": [
    "#This a simple arithmetic expression to mutiply then add integers\n",
    "\n",
    "(3*4)+5"
   ]
  },
  {
   "cell_type": "code",
   "execution_count": 12,
   "id": "c16f3831-f399-49c8-9eb7-5c9957f34707",
   "metadata": {
    "tags": []
   },
   "outputs": [
    {
     "data": {
      "text/plain": [
       "3.3333333333333335"
      ]
     },
     "execution_count": 12,
     "metadata": {},
     "output_type": "execute_result"
    }
   ],
   "source": [
    "#This will convert 200 minutes to hours by diving by 60\n",
    "\n",
    "(200/60)"
   ]
  },
  {
   "cell_type": "markdown",
   "id": "08831315-5c99-43d3-b3d8-b369dcf75908",
   "metadata": {},
   "source": [
    "<b>Objectives:</b>\n",
    "\n",
    "<ul>\n",
    "    <li>Python</li>\n",
    "    <li>R</li>\n",
    "    <li>Kernel</li>\n",
    "</ul>"
   ]
  },
  {
   "cell_type": "markdown",
   "id": "cdef6a4c-f62a-4c45-84e7-8da2ab5800bb",
   "metadata": {
    "tags": []
   },
   "source": [
    "<h2>Author<h2>\n",
    "Brian Kamau"
   ]
  },
  {
   "cell_type": "code",
   "execution_count": null,
   "id": "e5ad1922-2de1-4e1a-8d5a-091c87b7710d",
   "metadata": {},
   "outputs": [],
   "source": []
  }
 ],
 "metadata": {
  "kernelspec": {
   "display_name": "Python",
   "language": "python",
   "name": "conda-env-python-py"
  },
  "language_info": {
   "codemirror_mode": {
    "name": "ipython",
    "version": 3
   },
   "file_extension": ".py",
   "mimetype": "text/x-python",
   "name": "python",
   "nbconvert_exporter": "python",
   "pygments_lexer": "ipython3",
   "version": "3.7.12"
  }
 },
 "nbformat": 4,
 "nbformat_minor": 5
}
